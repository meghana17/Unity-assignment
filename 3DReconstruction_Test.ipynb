{
  "nbformat": 4,
  "nbformat_minor": 0,
  "metadata": {
    "colab": {
      "name": "3DReconstruction_Test.ipynb",
      "provenance": [],
      "collapsed_sections": []
    },
    "kernelspec": {
      "name": "python3",
      "display_name": "Python 3"
    },
    "accelerator": "GPU"
  },
  "cells": [
    {
      "cell_type": "code",
      "metadata": {
        "id": "BmpEwdOd1G1z",
        "colab": {
          "base_uri": "https://localhost:8080/"
        },
        "outputId": "c481aa31-625b-4636-cb52-0afb5e4b0cc9"
      },
      "source": [
        "!git clone https://github.com/facebookresearch/pifuhd"
      ],
      "execution_count": 3,
      "outputs": [
        {
          "output_type": "stream",
          "name": "stdout",
          "text": [
            "Cloning into 'pifuhd'...\n",
            "remote: Enumerating objects: 213, done.\u001b[K\n",
            "remote: Total 213 (delta 0), reused 0 (delta 0), pack-reused 213\u001b[K\n",
            "Receiving objects: 100% (213/213), 402.72 KiB | 7.74 MiB/s, done.\n",
            "Resolving deltas: 100% (104/104), done.\n"
          ]
        }
      ]
    },
    {
      "cell_type": "code",
      "metadata": {
        "id": "xvle9T10fB6g",
        "colab": {
          "base_uri": "https://localhost:8080/"
        },
        "outputId": "e6008d01-0ecf-4b0a-c97d-5418de5387d6"
      },
      "source": [
        "cd /content/pifuhd/sample_images"
      ],
      "execution_count": 5,
      "outputs": [
        {
          "output_type": "stream",
          "name": "stdout",
          "text": [
            "/content/pifuhd/sample_images\n"
          ]
        }
      ]
    },
    {
      "cell_type": "code",
      "source": [
        "# Get frames from the input video\n",
        "\n",
        "import cv2\n",
        "\n",
        "vidcap = cv2.VideoCapture('/content/drive/MyDrive/JumpingJacks.mp4')\n",
        "success,image = vidcap.read()\n",
        "count = 0\n",
        "while success:\n",
        "  cv2.imwrite(\"frame%d.png\" % count, image)     # save frame as JPEG file      \n",
        "  success,image = vidcap.read()\n",
        "  print('Read a new frame: ', success)\n",
        "  count += 1"
      ],
      "metadata": {
        "id": "VPOXQNWiadie"
      },
      "execution_count": null,
      "outputs": []
    },
    {
      "cell_type": "code",
      "metadata": {
        "id": "896EC7iQfXkj",
        "colab": {
          "base_uri": "https://localhost:8080/"
        },
        "outputId": "2072a90e-e729-411a-c0dc-e740473fbaa0"
      },
      "source": [
        "cd /content"
      ],
      "execution_count": 7,
      "outputs": [
        {
          "output_type": "stream",
          "name": "stdout",
          "text": [
            "/content\n"
          ]
        }
      ]
    },
    {
      "cell_type": "code",
      "metadata": {
        "id": "UtMjWGNU5STe",
        "colab": {
          "base_uri": "https://localhost:8080/"
        },
        "outputId": "98359927-79e1-4d51-ab34-eed2f2d74d6b"
      },
      "source": [
        "!git clone https://github.com/Daniil-Osokin/lightweight-human-pose-estimation.pytorch.git"
      ],
      "execution_count": 8,
      "outputs": [
        {
          "output_type": "stream",
          "name": "stdout",
          "text": [
            "Cloning into 'lightweight-human-pose-estimation.pytorch'...\n",
            "remote: Enumerating objects: 120, done.\u001b[K\n",
            "remote: Counting objects:  20% (1/5)\u001b[K\rremote: Counting objects:  40% (2/5)\u001b[K\rremote: Counting objects:  60% (3/5)\u001b[K\rremote: Counting objects:  80% (4/5)\u001b[K\rremote: Counting objects: 100% (5/5)\u001b[K\rremote: Counting objects: 100% (5/5), done.\u001b[K\n",
            "remote: Compressing objects:  20% (1/5)\u001b[K\rremote: Compressing objects:  40% (2/5)\u001b[K\rremote: Compressing objects:  60% (3/5)\u001b[K\rremote: Compressing objects:  80% (4/5)\u001b[K\rremote: Compressing objects: 100% (5/5)\u001b[K\rremote: Compressing objects: 100% (5/5), done.\u001b[K\n",
            "Receiving objects:   0% (1/120)   \rReceiving objects:   1% (2/120)   \rReceiving objects:   2% (3/120)   \rReceiving objects:   3% (4/120)   \rReceiving objects:   4% (5/120)   \rReceiving objects:   5% (6/120)   \rReceiving objects:   6% (8/120)   \rReceiving objects:   7% (9/120)   \rReceiving objects:   8% (10/120)   \rReceiving objects:   9% (11/120)   \rReceiving objects:  10% (12/120)   \rReceiving objects:  11% (14/120)   \rReceiving objects:  12% (15/120)   \rReceiving objects:  13% (16/120)   \rReceiving objects:  14% (17/120)   \rReceiving objects:  15% (18/120)   \rReceiving objects:  16% (20/120)   \rReceiving objects:  17% (21/120)   \rReceiving objects:  18% (22/120)   \rReceiving objects:  19% (23/120)   \rReceiving objects:  20% (24/120)   \rReceiving objects:  21% (26/120)   \rReceiving objects:  22% (27/120)   \rReceiving objects:  23% (28/120)   \rReceiving objects:  24% (29/120)   \rReceiving objects:  25% (30/120)   \rReceiving objects:  26% (32/120)   \rReceiving objects:  27% (33/120)   \rReceiving objects:  28% (34/120)   \rReceiving objects:  29% (35/120)   \rReceiving objects:  30% (36/120)   \rReceiving objects:  31% (38/120)   \rReceiving objects:  32% (39/120)   \rReceiving objects:  33% (40/120)   \rReceiving objects:  34% (41/120)   \rReceiving objects:  35% (42/120)   \rReceiving objects:  36% (44/120)   \rReceiving objects:  37% (45/120)   \rReceiving objects:  38% (46/120)   \rReceiving objects:  39% (47/120)   \rReceiving objects:  40% (48/120)   \rReceiving objects:  41% (50/120)   \rReceiving objects:  42% (51/120)   \rReceiving objects:  43% (52/120)   \rReceiving objects:  44% (53/120)   \rReceiving objects:  45% (54/120)   \rReceiving objects:  46% (56/120)   \rReceiving objects:  47% (57/120)   \rReceiving objects:  48% (58/120)   \rReceiving objects:  49% (59/120)   \rReceiving objects:  50% (60/120)   \rReceiving objects:  51% (62/120)   \rReceiving objects:  52% (63/120)   \rReceiving objects:  53% (64/120)   \rReceiving objects:  54% (65/120)   \rReceiving objects:  55% (66/120)   \rReceiving objects:  56% (68/120)   \rReceiving objects:  57% (69/120)   \rReceiving objects:  58% (70/120)   \rReceiving objects:  59% (71/120)   \rReceiving objects:  60% (72/120)   \rremote: Total 120 (delta 1), reused 0 (delta 0), pack-reused 115\u001b[K\n",
            "Receiving objects:  61% (74/120)   \rReceiving objects:  62% (75/120)   \rReceiving objects:  63% (76/120)   \rReceiving objects:  64% (77/120)   \rReceiving objects:  65% (78/120)   \rReceiving objects:  66% (80/120)   \rReceiving objects:  67% (81/120)   \rReceiving objects:  68% (82/120)   \rReceiving objects:  69% (83/120)   \rReceiving objects:  70% (84/120)   \rReceiving objects:  71% (86/120)   \rReceiving objects:  72% (87/120)   \rReceiving objects:  73% (88/120)   \rReceiving objects:  74% (89/120)   \rReceiving objects:  75% (90/120)   \rReceiving objects:  76% (92/120)   \rReceiving objects:  77% (93/120)   \rReceiving objects:  78% (94/120)   \rReceiving objects:  79% (95/120)   \rReceiving objects:  80% (96/120)   \rReceiving objects:  81% (98/120)   \rReceiving objects:  82% (99/120)   \rReceiving objects:  83% (100/120)   \rReceiving objects:  84% (101/120)   \rReceiving objects:  85% (102/120)   \rReceiving objects:  86% (104/120)   \rReceiving objects:  87% (105/120)   \rReceiving objects:  88% (106/120)   \rReceiving objects:  89% (107/120)   \rReceiving objects:  90% (108/120)   \rReceiving objects:  91% (110/120)   \rReceiving objects:  92% (111/120)   \rReceiving objects:  93% (112/120)   \rReceiving objects:  94% (113/120)   \rReceiving objects:  95% (114/120)   \rReceiving objects:  96% (116/120)   \rReceiving objects:  97% (117/120)   \rReceiving objects:  98% (118/120)   \rReceiving objects:  99% (119/120)   \rReceiving objects: 100% (120/120)   \rReceiving objects: 100% (120/120), 227.79 KiB | 4.75 MiB/s, done.\n",
            "Resolving deltas:   0% (0/50)   \rResolving deltas:   2% (1/50)   \rResolving deltas:   4% (2/50)   \rResolving deltas:   6% (3/50)   \rResolving deltas:   8% (4/50)   \rResolving deltas:  10% (5/50)   \rResolving deltas:  12% (6/50)   \rResolving deltas:  22% (11/50)   \rResolving deltas:  26% (13/50)   \rResolving deltas:  38% (19/50)   \rResolving deltas:  40% (20/50)   \rResolving deltas:  44% (22/50)   \rResolving deltas:  48% (24/50)   \rResolving deltas:  50% (25/50)   \rResolving deltas:  54% (27/50)   \rResolving deltas:  58% (29/50)   \rResolving deltas:  78% (39/50)   \rResolving deltas:  88% (44/50)   \rResolving deltas:  92% (46/50)   \rResolving deltas:  94% (47/50)   \rResolving deltas: 100% (50/50)   \rResolving deltas: 100% (50/50), done.\n"
          ]
        }
      ]
    },
    {
      "cell_type": "code",
      "metadata": {
        "id": "F-vYklhI5dab",
        "colab": {
          "base_uri": "https://localhost:8080/"
        },
        "outputId": "558098d7-5c1b-4d88-9ca6-9bca5bbc8244"
      },
      "source": [
        "cd /content/lightweight-human-pose-estimation.pytorch/"
      ],
      "execution_count": 9,
      "outputs": [
        {
          "output_type": "stream",
          "name": "stdout",
          "text": [
            "/content/lightweight-human-pose-estimation.pytorch\n"
          ]
        }
      ]
    },
    {
      "cell_type": "code",
      "metadata": {
        "id": "dRod9SOu77I6",
        "colab": {
          "base_uri": "https://localhost:8080/"
        },
        "outputId": "76bbe1ad-83e1-4c8b-c8f3-1b43d240cf9e"
      },
      "source": [
        "!wget https://download.01.org/opencv/openvino_training_extensions/models/human_pose_estimation/checkpoint_iter_370000.pth"
      ],
      "execution_count": 10,
      "outputs": [
        {
          "output_type": "stream",
          "name": "stdout",
          "text": [
            "--2022-01-17 17:06:16--  https://download.01.org/opencv/openvino_training_extensions/models/human_pose_estimation/checkpoint_iter_370000.pth\n",
            "Resolving download.01.org (download.01.org)... 23.208.55.108, 2600:1402:3800:29b::4b21, 2600:1402:3800:2a3::4b21\n",
            "Connecting to download.01.org (download.01.org)|23.208.55.108|:443... connected.\n",
            "HTTP request sent, awaiting response... 200 OK\n",
            "Length: 87959810 (84M) [application/octet-stream]\n",
            "Saving to: ‘checkpoint_iter_370000.pth’\n",
            "\n",
            "checkpoint_iter_370 100%[===================>]  83.88M  64.3MB/s    in 1.3s    \n",
            "\n",
            "2022-01-17 17:06:18 (64.3 MB/s) - ‘checkpoint_iter_370000.pth’ saved [87959810/87959810]\n",
            "\n"
          ]
        }
      ]
    },
    {
      "cell_type": "code",
      "metadata": {
        "id": "PdRcDXe38lHB"
      },
      "source": [
        "#Function to get keypoints - from the authors of PIFuHD\n",
        "\n",
        "import torch\n",
        "import cv2\n",
        "import numpy as np\n",
        "from models.with_mobilenet import PoseEstimationWithMobileNet\n",
        "from modules.keypoints import extract_keypoints, group_keypoints\n",
        "from modules.load_state import load_state\n",
        "from modules.pose import Pose, track_poses\n",
        "import demo\n",
        "\n",
        "def get_rect(net, images, height_size):\n",
        "    net = net.eval()\n",
        "\n",
        "    stride = 8\n",
        "    upsample_ratio = 4\n",
        "    num_keypoints = Pose.num_kpts\n",
        "    previous_poses = []\n",
        "    delay = 33\n",
        "    for image in images:\n",
        "        rect_path = image.replace('.%s' % (image.split('.')[-1]), '_rect.txt')\n",
        "        img = cv2.imread(image, cv2.IMREAD_COLOR)\n",
        "        orig_img = img.copy()\n",
        "        orig_img = img.copy()\n",
        "        heatmaps, pafs, scale, pad = demo.infer_fast(net, img, height_size, stride, upsample_ratio, cpu=False)\n",
        "\n",
        "        total_keypoints_num = 0\n",
        "        all_keypoints_by_type = []\n",
        "        for kpt_idx in range(num_keypoints):  # 19th for bg\n",
        "            total_keypoints_num += extract_keypoints(heatmaps[:, :, kpt_idx], all_keypoints_by_type, total_keypoints_num)\n",
        "\n",
        "        pose_entries, all_keypoints = group_keypoints(all_keypoints_by_type, pafs)\n",
        "        for kpt_id in range(all_keypoints.shape[0]):\n",
        "            all_keypoints[kpt_id, 0] = (all_keypoints[kpt_id, 0] * stride / upsample_ratio - pad[1]) / scale\n",
        "            all_keypoints[kpt_id, 1] = (all_keypoints[kpt_id, 1] * stride / upsample_ratio - pad[0]) / scale\n",
        "        current_poses = []\n",
        "\n",
        "        rects = []\n",
        "        for n in range(len(pose_entries)):\n",
        "            if len(pose_entries[n]) == 0:\n",
        "                continue\n",
        "            pose_keypoints = np.ones((num_keypoints, 2), dtype=np.int32) * -1\n",
        "            valid_keypoints = []\n",
        "            for kpt_id in range(num_keypoints):\n",
        "                if pose_entries[n][kpt_id] != -1.0:  # keypoint was found\n",
        "                    pose_keypoints[kpt_id, 0] = int(all_keypoints[int(pose_entries[n][kpt_id]), 0])\n",
        "                    pose_keypoints[kpt_id, 1] = int(all_keypoints[int(pose_entries[n][kpt_id]), 1])\n",
        "                    valid_keypoints.append([pose_keypoints[kpt_id, 0], pose_keypoints[kpt_id, 1]])\n",
        "            valid_keypoints = np.array(valid_keypoints)\n",
        "            \n",
        "            if pose_entries[n][10] != -1.0 or pose_entries[n][13] != -1.0:\n",
        "              pmin = valid_keypoints.min(0)\n",
        "              pmax = valid_keypoints.max(0)\n",
        "\n",
        "              center = (0.5 * (pmax[:2] + pmin[:2])).astype(np.int)\n",
        "              radius = int(0.65 * max(pmax[0]-pmin[0], pmax[1]-pmin[1]))\n",
        "            elif pose_entries[n][10] == -1.0 and pose_entries[n][13] == -1.0 and pose_entries[n][8] != -1.0 and pose_entries[n][11] != -1.0:\n",
        "              # if leg is missing, use pelvis to get cropping\n",
        "              center = (0.5 * (pose_keypoints[8] + pose_keypoints[11])).astype(np.int)\n",
        "              radius = int(1.45*np.sqrt(((center[None,:] - valid_keypoints)**2).sum(1)).max(0))\n",
        "              center[1] += int(0.05*radius)\n",
        "            else:\n",
        "              center = np.array([img.shape[1]//2,img.shape[0]//2])\n",
        "              radius = max(img.shape[1]//2,img.shape[0]//2)\n",
        "\n",
        "            x1 = center[0] - radius\n",
        "            y1 = center[1] - radius\n",
        "\n",
        "            rects.append([x1, y1, 2*radius, 2*radius])\n",
        "\n",
        "        np.savetxt(rect_path, np.array(rects), fmt='%d')"
      ],
      "execution_count": 11,
      "outputs": []
    },
    {
      "cell_type": "code",
      "source": [
        "import os\n",
        "\n",
        "img_dir = '/content/pifuhd/sample_images'\n",
        "\n",
        "for file in os.listdir(img_dir):\n",
        "  print(file)\n",
        "  file_name = os.path.splitext(file)[0]\n",
        "\n",
        "  # output paths\n",
        "  obj_path = '/content/pifuhd/results/pifuhd_final/recon/result_%s_256.obj' % file_name\n",
        "  out_img_path = '/content/pifuhd/results/pifuhd_final/recon/result_%s_256.png' % file_name\n",
        "  video_path = '/content/pifuhd/results/pifuhd_final/recon/result_%s_256.mp4' % file_name\n",
        "  video_display_path = '/content/pifuhd/results/pifuhd_final/result_%s_256_display.mp4' % file_name\n",
        "\n",
        "  image_path = os.path.join(img_dir,file)\n",
        "  \n",
        "  if file.endswith('.png'):\n",
        "    net = PoseEstimationWithMobileNet()\n",
        "    checkpoint = torch.load('checkpoint_iter_370000.pth', map_location='cpu')\n",
        "    load_state(net, checkpoint)\n",
        "\n",
        "    get_rect(net.cuda(), [image_path], 512)\n"
      ],
      "metadata": {
        "id": "ShePama6czZQ"
      },
      "execution_count": null,
      "outputs": []
    },
    {
      "cell_type": "code",
      "metadata": {
        "id": "UrIcZweSNRFI",
        "colab": {
          "base_uri": "https://localhost:8080/"
        },
        "outputId": "743fad7a-da72-4efa-9de2-629bea66c3d6"
      },
      "source": [
        "cd /content/pifuhd/"
      ],
      "execution_count": 14,
      "outputs": [
        {
          "output_type": "stream",
          "name": "stdout",
          "text": [
            "/content/pifuhd\n"
          ]
        }
      ]
    },
    {
      "cell_type": "code",
      "metadata": {
        "id": "k3jjm6HuQRk8",
        "colab": {
          "base_uri": "https://localhost:8080/"
        },
        "outputId": "77bce0c1-8d90-4f4e-eea7-0bf69d3e8618"
      },
      "source": [
        "!sh ./scripts/download_trained_model.sh"
      ],
      "execution_count": 15,
      "outputs": [
        {
          "output_type": "stream",
          "name": "stdout",
          "text": [
            "+ mkdir -p checkpoints\n",
            "+ cd checkpoints\n",
            "+ wget https://dl.fbaipublicfiles.com/pifuhd/checkpoints/pifuhd.pt pifuhd.pt\n",
            "--2022-01-17 17:09:00--  https://dl.fbaipublicfiles.com/pifuhd/checkpoints/pifuhd.pt\n",
            "Resolving dl.fbaipublicfiles.com (dl.fbaipublicfiles.com)... 104.22.74.142, 104.22.75.142, 172.67.9.4, ...\n",
            "Connecting to dl.fbaipublicfiles.com (dl.fbaipublicfiles.com)|104.22.74.142|:443... connected.\n",
            "HTTP request sent, awaiting response... 200 OK\n",
            "Length: 1548375177 (1.4G) [application/octet-stream]\n",
            "Saving to: ‘pifuhd.pt’\n",
            "\n",
            "pifuhd.pt           100%[===================>]   1.44G  43.5MB/s    in 35s     \n",
            "\n",
            "2022-01-17 17:09:36 (42.0 MB/s) - ‘pifuhd.pt’ saved [1548375177/1548375177]\n",
            "\n",
            "--2022-01-17 17:09:36--  http://pifuhd.pt/\n",
            "Resolving pifuhd.pt (pifuhd.pt)... failed: Name or service not known.\n",
            "wget: unable to resolve host address ‘pifuhd.pt’\n",
            "FINISHED --2022-01-17 17:09:36--\n",
            "Total wall clock time: 36s\n",
            "Downloaded: 1 files, 1.4G in 35s (42.0 MB/s)\n"
          ]
        }
      ]
    },
    {
      "cell_type": "code",
      "metadata": {
        "id": "5995t2PnQTmG",
        "colab": {
          "base_uri": "https://localhost:8080/"
        },
        "outputId": "00b5fe00-3249-4adb-e64e-90e591683948"
      },
      "source": [
        "#Inference with the pre-trained PIFuHD model\n",
        "#COlab can only support meshes of resolution 256\n",
        "\n",
        "!python -m apps.simple_test -r 256 --use_rect -i $img_dir"
      ],
      "execution_count": 16,
      "outputs": [
        {
          "output_type": "stream",
          "name": "stdout",
          "text": [
            "Resuming from  ./checkpoints/pifuhd.pt\n",
            "Warning: opt is overwritten.\n",
            "test data size:  181\n",
            "initialize network with normal\n",
            "initialize network with normal\n",
            "generate mesh (test) ...\n",
            "  0% 0/181 [00:00<?, ?it/s]/content/drive/MyDrive/results/pifuhd_final/recon/result_frame0_256.obj\n",
            "/content/pifuhd/lib/mesh_util.py:77: FutureWarning: marching_cubes_lewiner is deprecated in favor of marching_cubes. marching_cubes_lewiner will be removed in version 0.19\n",
            "  verts, faces, normals, values = measure.marching_cubes_lewiner(sdf, thresh)\n",
            "  1% 1/181 [00:05<16:39,  5.55s/it]/content/drive/MyDrive/results/pifuhd_final/recon/result_frame1_256.obj\n",
            "  1% 2/181 [00:10<15:07,  5.07s/it]/content/drive/MyDrive/results/pifuhd_final/recon/result_frame10_256.obj\n",
            "  2% 3/181 [00:15<14:34,  4.91s/it]/content/drive/MyDrive/results/pifuhd_final/recon/result_frame100_256.obj\n",
            "  2% 4/181 [00:19<14:19,  4.86s/it]/content/drive/MyDrive/results/pifuhd_final/recon/result_frame101_256.obj\n",
            "  3% 5/181 [00:24<14:09,  4.83s/it]/content/drive/MyDrive/results/pifuhd_final/recon/result_frame102_256.obj\n",
            "  3% 6/181 [00:29<14:07,  4.85s/it]/content/drive/MyDrive/results/pifuhd_final/recon/result_frame103_256.obj\n",
            "  4% 7/181 [00:34<13:56,  4.81s/it]/content/drive/MyDrive/results/pifuhd_final/recon/result_frame104_256.obj\n",
            "  4% 8/181 [00:38<13:49,  4.79s/it]/content/drive/MyDrive/results/pifuhd_final/recon/result_frame105_256.obj\n",
            "  5% 9/181 [00:43<13:39,  4.77s/it]/content/drive/MyDrive/results/pifuhd_final/recon/result_frame106_256.obj\n",
            "  6% 10/181 [00:48<13:27,  4.72s/it]/content/drive/MyDrive/results/pifuhd_final/recon/result_frame107_256.obj\n",
            "  6% 11/181 [00:52<13:15,  4.68s/it]/content/drive/MyDrive/results/pifuhd_final/recon/result_frame108_256.obj\n",
            "  7% 12/181 [00:57<13:17,  4.72s/it]/content/drive/MyDrive/results/pifuhd_final/recon/result_frame109_256.obj\n",
            "  7% 13/181 [01:02<13:13,  4.72s/it]/content/drive/MyDrive/results/pifuhd_final/recon/result_frame11_256.obj\n",
            "  8% 14/181 [01:07<13:15,  4.76s/it]/content/drive/MyDrive/results/pifuhd_final/recon/result_frame110_256.obj\n",
            "  8% 15/181 [01:12<13:13,  4.78s/it]/content/drive/MyDrive/results/pifuhd_final/recon/result_frame111_256.obj\n",
            "  9% 16/181 [01:16<13:13,  4.81s/it]/content/drive/MyDrive/results/pifuhd_final/recon/result_frame112_256.obj\n",
            "  9% 17/181 [01:21<13:17,  4.86s/it]/content/drive/MyDrive/results/pifuhd_final/recon/result_frame113_256.obj\n",
            " 10% 18/181 [01:26<13:15,  4.88s/it]/content/drive/MyDrive/results/pifuhd_final/recon/result_frame114_256.obj\n",
            " 10% 19/181 [01:31<13:19,  4.94s/it]/content/drive/MyDrive/results/pifuhd_final/recon/result_frame115_256.obj\n",
            " 11% 20/181 [01:36<13:09,  4.91s/it]/content/drive/MyDrive/results/pifuhd_final/recon/result_frame116_256.obj\n",
            " 12% 21/181 [01:41<13:00,  4.88s/it]/content/drive/MyDrive/results/pifuhd_final/recon/result_frame117_256.obj\n",
            " 12% 22/181 [01:46<12:54,  4.87s/it]/content/drive/MyDrive/results/pifuhd_final/recon/result_frame118_256.obj\n",
            " 13% 23/181 [01:51<12:43,  4.83s/it]/content/drive/MyDrive/results/pifuhd_final/recon/result_frame119_256.obj\n",
            " 13% 24/181 [01:55<12:37,  4.83s/it]/content/drive/MyDrive/results/pifuhd_final/recon/result_frame12_256.obj\n",
            " 14% 25/181 [02:00<12:32,  4.83s/it]/content/drive/MyDrive/results/pifuhd_final/recon/result_frame120_256.obj\n",
            " 14% 26/181 [02:05<12:27,  4.82s/it]/content/drive/MyDrive/results/pifuhd_final/recon/result_frame121_256.obj\n",
            " 15% 27/181 [02:10<12:20,  4.81s/it]/content/drive/MyDrive/results/pifuhd_final/recon/result_frame122_256.obj\n",
            " 15% 28/181 [02:15<12:15,  4.81s/it]/content/drive/MyDrive/results/pifuhd_final/recon/result_frame123_256.obj\n",
            " 16% 29/181 [02:19<12:09,  4.80s/it]/content/drive/MyDrive/results/pifuhd_final/recon/result_frame124_256.obj\n",
            " 17% 30/181 [02:24<12:03,  4.79s/it]/content/drive/MyDrive/results/pifuhd_final/recon/result_frame125_256.obj\n",
            " 17% 31/181 [02:29<12:01,  4.81s/it]/content/drive/MyDrive/results/pifuhd_final/recon/result_frame126_256.obj\n",
            " 18% 32/181 [02:34<11:50,  4.77s/it]/content/drive/MyDrive/results/pifuhd_final/recon/result_frame127_256.obj\n",
            " 18% 33/181 [02:38<11:39,  4.73s/it]/content/drive/MyDrive/results/pifuhd_final/recon/result_frame128_256.obj\n",
            " 19% 34/181 [02:43<11:32,  4.71s/it]/content/drive/MyDrive/results/pifuhd_final/recon/result_frame129_256.obj\n",
            " 19% 35/181 [02:48<11:31,  4.74s/it]/content/drive/MyDrive/results/pifuhd_final/recon/result_frame13_256.obj\n",
            " 20% 36/181 [02:53<11:26,  4.74s/it]/content/drive/MyDrive/results/pifuhd_final/recon/result_frame130_256.obj\n",
            " 20% 37/181 [02:57<11:22,  4.74s/it]/content/drive/MyDrive/results/pifuhd_final/recon/result_frame131_256.obj\n",
            " 21% 38/181 [03:02<11:17,  4.74s/it]/content/drive/MyDrive/results/pifuhd_final/recon/result_frame132_256.obj\n",
            " 22% 39/181 [03:07<11:17,  4.77s/it]/content/drive/MyDrive/results/pifuhd_final/recon/result_frame133_256.obj\n",
            " 22% 40/181 [03:12<11:16,  4.80s/it]/content/drive/MyDrive/results/pifuhd_final/recon/result_frame134_256.obj\n",
            " 23% 41/181 [03:17<11:15,  4.82s/it]/content/drive/MyDrive/results/pifuhd_final/recon/result_frame135_256.obj\n",
            " 23% 42/181 [03:21<11:08,  4.81s/it]/content/drive/MyDrive/results/pifuhd_final/recon/result_frame136_256.obj\n",
            " 24% 43/181 [03:26<11:05,  4.82s/it]/content/drive/MyDrive/results/pifuhd_final/recon/result_frame137_256.obj\n",
            " 24% 44/181 [03:31<11:00,  4.82s/it]/content/drive/MyDrive/results/pifuhd_final/recon/result_frame138_256.obj\n",
            " 25% 45/181 [03:36<10:55,  4.82s/it]/content/drive/MyDrive/results/pifuhd_final/recon/result_frame139_256.obj\n",
            " 25% 46/181 [03:41<10:47,  4.80s/it]/content/drive/MyDrive/results/pifuhd_final/recon/result_frame14_256.obj\n",
            " 26% 47/181 [03:45<10:35,  4.74s/it]/content/drive/MyDrive/results/pifuhd_final/recon/result_frame140_256.obj\n",
            " 27% 48/181 [03:50<10:31,  4.75s/it]/content/drive/MyDrive/results/pifuhd_final/recon/result_frame141_256.obj\n",
            " 27% 49/181 [03:55<10:26,  4.74s/it]/content/drive/MyDrive/results/pifuhd_final/recon/result_frame142_256.obj\n",
            " 28% 50/181 [04:00<10:23,  4.76s/it]/content/drive/MyDrive/results/pifuhd_final/recon/result_frame143_256.obj\n",
            " 28% 51/181 [04:04<10:19,  4.76s/it]/content/drive/MyDrive/results/pifuhd_final/recon/result_frame144_256.obj\n",
            " 29% 52/181 [04:09<10:17,  4.79s/it]/content/drive/MyDrive/results/pifuhd_final/recon/result_frame145_256.obj\n",
            " 29% 53/181 [04:14<10:19,  4.84s/it]/content/drive/MyDrive/results/pifuhd_final/recon/result_frame146_256.obj\n",
            " 30% 54/181 [04:19<10:13,  4.83s/it]/content/drive/MyDrive/results/pifuhd_final/recon/result_frame147_256.obj\n",
            " 30% 55/181 [04:24<10:02,  4.79s/it]/content/drive/MyDrive/results/pifuhd_final/recon/result_frame148_256.obj\n",
            " 31% 56/181 [04:28<09:54,  4.76s/it]/content/drive/MyDrive/results/pifuhd_final/recon/result_frame149_256.obj\n",
            " 31% 57/181 [04:33<09:48,  4.75s/it]/content/drive/MyDrive/results/pifuhd_final/recon/result_frame15_256.obj\n",
            " 32% 58/181 [04:38<09:38,  4.70s/it]/content/drive/MyDrive/results/pifuhd_final/recon/result_frame150_256.obj\n",
            " 33% 59/181 [04:42<09:33,  4.70s/it]/content/drive/MyDrive/results/pifuhd_final/recon/result_frame151_256.obj\n",
            " 33% 60/181 [04:47<09:30,  4.71s/it]/content/drive/MyDrive/results/pifuhd_final/recon/result_frame152_256.obj\n",
            " 34% 61/181 [04:52<09:26,  4.72s/it]/content/drive/MyDrive/results/pifuhd_final/recon/result_frame153_256.obj\n",
            " 34% 62/181 [04:57<09:27,  4.77s/it]/content/drive/MyDrive/results/pifuhd_final/recon/result_frame154_256.obj\n",
            " 35% 63/181 [05:02<09:27,  4.81s/it]/content/drive/MyDrive/results/pifuhd_final/recon/result_frame155_256.obj\n",
            " 35% 64/181 [05:07<09:26,  4.84s/it]/content/drive/MyDrive/results/pifuhd_final/recon/result_frame156_256.obj\n",
            " 36% 65/181 [05:12<09:25,  4.87s/it]/content/drive/MyDrive/results/pifuhd_final/recon/result_frame157_256.obj\n",
            " 36% 66/181 [05:17<09:25,  4.92s/it]/content/drive/MyDrive/results/pifuhd_final/recon/result_frame158_256.obj\n",
            " 37% 67/181 [05:21<09:15,  4.87s/it]/content/drive/MyDrive/results/pifuhd_final/recon/result_frame159_256.obj\n",
            " 38% 68/181 [05:26<09:06,  4.83s/it]/content/drive/MyDrive/results/pifuhd_final/recon/result_frame16_256.obj\n",
            " 38% 69/181 [05:31<08:58,  4.81s/it]/content/drive/MyDrive/results/pifuhd_final/recon/result_frame160_256.obj\n",
            " 39% 70/181 [05:36<08:52,  4.80s/it]/content/drive/MyDrive/results/pifuhd_final/recon/result_frame161_256.obj\n",
            " 39% 71/181 [05:40<08:47,  4.79s/it]/content/drive/MyDrive/results/pifuhd_final/recon/result_frame162_256.obj\n",
            " 40% 72/181 [05:45<08:38,  4.76s/it]/content/drive/MyDrive/results/pifuhd_final/recon/result_frame163_256.obj\n",
            " 40% 73/181 [05:50<08:33,  4.76s/it]/content/drive/MyDrive/results/pifuhd_final/recon/result_frame164_256.obj\n",
            " 41% 74/181 [05:54<08:26,  4.74s/it]/content/drive/MyDrive/results/pifuhd_final/recon/result_frame165_256.obj\n",
            " 41% 75/181 [05:59<08:26,  4.78s/it]/content/drive/MyDrive/results/pifuhd_final/recon/result_frame166_256.obj\n",
            " 42% 76/181 [06:04<08:22,  4.78s/it]/content/drive/MyDrive/results/pifuhd_final/recon/result_frame167_256.obj\n",
            " 43% 77/181 [06:09<08:16,  4.78s/it]/content/drive/MyDrive/results/pifuhd_final/recon/result_frame168_256.obj\n",
            " 43% 78/181 [06:14<08:10,  4.76s/it]/content/drive/MyDrive/results/pifuhd_final/recon/result_frame169_256.obj\n",
            " 44% 79/181 [06:18<08:03,  4.74s/it]/content/drive/MyDrive/results/pifuhd_final/recon/result_frame17_256.obj\n",
            " 44% 80/181 [06:23<07:57,  4.73s/it]/content/drive/MyDrive/results/pifuhd_final/recon/result_frame170_256.obj\n",
            " 45% 81/181 [06:28<07:50,  4.71s/it]/content/drive/MyDrive/results/pifuhd_final/recon/result_frame171_256.obj\n",
            " 45% 82/181 [06:32<07:47,  4.72s/it]/content/drive/MyDrive/results/pifuhd_final/recon/result_frame172_256.obj\n",
            " 46% 83/181 [06:37<07:44,  4.74s/it]/content/drive/MyDrive/results/pifuhd_final/recon/result_frame173_256.obj\n",
            " 46% 84/181 [06:42<07:42,  4.77s/it]/content/drive/MyDrive/results/pifuhd_final/recon/result_frame174_256.obj\n",
            " 47% 85/181 [06:47<07:37,  4.77s/it]/content/drive/MyDrive/results/pifuhd_final/recon/result_frame175_256.obj\n",
            " 48% 86/181 [06:52<07:36,  4.81s/it]/content/drive/MyDrive/results/pifuhd_final/recon/result_frame176_256.obj\n",
            " 48% 87/181 [06:57<07:34,  4.83s/it]/content/drive/MyDrive/results/pifuhd_final/recon/result_frame177_256.obj\n",
            " 49% 88/181 [07:02<07:32,  4.87s/it]/content/drive/MyDrive/results/pifuhd_final/recon/result_frame178_256.obj\n",
            " 49% 89/181 [07:06<07:28,  4.88s/it]/content/drive/MyDrive/results/pifuhd_final/recon/result_frame179_256.obj\n",
            " 50% 90/181 [07:11<07:22,  4.86s/it]/content/drive/MyDrive/results/pifuhd_final/recon/result_frame18_256.obj\n",
            " 50% 91/181 [07:16<07:13,  4.82s/it]/content/drive/MyDrive/results/pifuhd_final/recon/result_frame19_256.obj\n",
            " 51% 92/181 [07:21<07:04,  4.77s/it]/content/drive/MyDrive/results/pifuhd_final/recon/result_frame2_256.obj\n",
            " 51% 93/181 [07:25<06:58,  4.76s/it]/content/drive/MyDrive/results/pifuhd_final/recon/result_frame20_256.obj\n",
            " 52% 94/181 [07:30<06:50,  4.72s/it]/content/drive/MyDrive/results/pifuhd_final/recon/result_frame21_256.obj\n",
            " 52% 95/181 [07:35<06:44,  4.71s/it]/content/drive/MyDrive/results/pifuhd_final/recon/result_frame22_256.obj\n",
            " 53% 96/181 [07:39<06:39,  4.70s/it]/content/drive/MyDrive/results/pifuhd_final/recon/result_frame23_256.obj\n",
            " 54% 97/181 [07:44<06:36,  4.72s/it]/content/drive/MyDrive/results/pifuhd_final/recon/result_frame24_256.obj\n",
            " 54% 98/181 [07:49<06:33,  4.75s/it]/content/drive/MyDrive/results/pifuhd_final/recon/result_frame25_256.obj\n",
            " 55% 99/181 [07:54<06:29,  4.75s/it]/content/drive/MyDrive/results/pifuhd_final/recon/result_frame26_256.obj\n",
            " 55% 100/181 [07:59<06:26,  4.77s/it]/content/drive/MyDrive/results/pifuhd_final/recon/result_frame27_256.obj\n",
            " 56% 101/181 [08:03<06:21,  4.77s/it]/content/drive/MyDrive/results/pifuhd_final/recon/result_frame28_256.obj\n",
            " 56% 102/181 [08:08<06:16,  4.77s/it]/content/drive/MyDrive/results/pifuhd_final/recon/result_frame29_256.obj\n",
            " 57% 103/181 [08:13<06:14,  4.80s/it]/content/drive/MyDrive/results/pifuhd_final/recon/result_frame3_256.obj\n",
            " 57% 104/181 [08:18<06:09,  4.79s/it]/content/drive/MyDrive/results/pifuhd_final/recon/result_frame30_256.obj\n",
            " 58% 105/181 [08:22<06:04,  4.79s/it]/content/drive/MyDrive/results/pifuhd_final/recon/result_frame31_256.obj\n",
            " 59% 106/181 [08:27<05:58,  4.78s/it]/content/drive/MyDrive/results/pifuhd_final/recon/result_frame32_256.obj\n",
            " 59% 107/181 [08:32<05:54,  4.80s/it]/content/drive/MyDrive/results/pifuhd_final/recon/result_frame33_256.obj\n",
            " 60% 108/181 [08:37<05:48,  4.78s/it]/content/drive/MyDrive/results/pifuhd_final/recon/result_frame34_256.obj\n",
            " 60% 109/181 [08:42<05:44,  4.78s/it]/content/drive/MyDrive/results/pifuhd_final/recon/result_frame35_256.obj\n",
            " 61% 110/181 [08:46<05:37,  4.76s/it]/content/drive/MyDrive/results/pifuhd_final/recon/result_frame36_256.obj\n",
            " 61% 111/181 [08:51<05:32,  4.74s/it]/content/drive/MyDrive/results/pifuhd_final/recon/result_frame37_256.obj\n",
            " 62% 112/181 [08:56<05:27,  4.75s/it]/content/drive/MyDrive/results/pifuhd_final/recon/result_frame38_256.obj\n",
            " 62% 113/181 [09:00<05:21,  4.73s/it]/content/drive/MyDrive/results/pifuhd_final/recon/result_frame39_256.obj\n",
            " 63% 114/181 [09:05<05:15,  4.71s/it]/content/drive/MyDrive/results/pifuhd_final/recon/result_frame4_256.obj\n",
            " 64% 115/181 [09:10<05:11,  4.72s/it]/content/drive/MyDrive/results/pifuhd_final/recon/result_frame40_256.obj\n",
            " 64% 116/181 [09:15<05:07,  4.73s/it]/content/drive/MyDrive/results/pifuhd_final/recon/result_frame41_256.obj\n",
            " 65% 117/181 [09:19<05:00,  4.70s/it]/content/drive/MyDrive/results/pifuhd_final/recon/result_frame42_256.obj\n",
            " 65% 118/181 [09:24<04:54,  4.68s/it]/content/drive/MyDrive/results/pifuhd_final/recon/result_frame43_256.obj\n",
            " 66% 119/181 [09:29<04:50,  4.69s/it]/content/drive/MyDrive/results/pifuhd_final/recon/result_frame44_256.obj\n",
            " 66% 120/181 [09:33<04:47,  4.72s/it]/content/drive/MyDrive/results/pifuhd_final/recon/result_frame45_256.obj\n",
            " 67% 121/181 [09:38<04:43,  4.72s/it]/content/drive/MyDrive/results/pifuhd_final/recon/result_frame46_256.obj\n",
            " 67% 122/181 [09:43<04:39,  4.74s/it]/content/drive/MyDrive/results/pifuhd_final/recon/result_frame47_256.obj\n",
            " 68% 123/181 [09:48<04:35,  4.76s/it]/content/drive/MyDrive/results/pifuhd_final/recon/result_frame48_256.obj\n",
            " 69% 124/181 [09:52<04:30,  4.75s/it]/content/drive/MyDrive/results/pifuhd_final/recon/result_frame49_256.obj\n",
            " 69% 125/181 [09:57<04:27,  4.78s/it]/content/drive/MyDrive/results/pifuhd_final/recon/result_frame5_256.obj\n",
            " 70% 126/181 [10:02<04:22,  4.77s/it]/content/drive/MyDrive/results/pifuhd_final/recon/result_frame50_256.obj\n",
            " 70% 127/181 [10:07<04:17,  4.77s/it]/content/drive/MyDrive/results/pifuhd_final/recon/result_frame51_256.obj\n",
            " 71% 128/181 [10:12<04:13,  4.79s/it]/content/drive/MyDrive/results/pifuhd_final/recon/result_frame52_256.obj\n",
            " 71% 129/181 [10:16<04:08,  4.78s/it]/content/drive/MyDrive/results/pifuhd_final/recon/result_frame53_256.obj\n",
            " 72% 130/181 [10:21<04:02,  4.75s/it]/content/drive/MyDrive/results/pifuhd_final/recon/result_frame54_256.obj\n",
            " 72% 131/181 [10:26<03:57,  4.75s/it]/content/drive/MyDrive/results/pifuhd_final/recon/result_frame55_256.obj\n",
            " 73% 132/181 [10:31<03:53,  4.77s/it]/content/drive/MyDrive/results/pifuhd_final/recon/result_frame56_256.obj\n",
            " 73% 133/181 [10:35<03:49,  4.78s/it]/content/drive/MyDrive/results/pifuhd_final/recon/result_frame57_256.obj\n",
            " 74% 134/181 [10:40<03:45,  4.79s/it]/content/drive/MyDrive/results/pifuhd_final/recon/result_frame58_256.obj\n",
            " 75% 135/181 [10:45<03:40,  4.79s/it]/content/drive/MyDrive/results/pifuhd_final/recon/result_frame59_256.obj\n",
            " 75% 136/181 [10:50<03:35,  4.79s/it]/content/drive/MyDrive/results/pifuhd_final/recon/result_frame6_256.obj\n",
            " 76% 137/181 [10:55<03:30,  4.79s/it]/content/drive/MyDrive/results/pifuhd_final/recon/result_frame60_256.obj\n",
            " 76% 138/181 [10:59<03:24,  4.77s/it]/content/drive/MyDrive/results/pifuhd_final/recon/result_frame61_256.obj\n",
            " 77% 139/181 [11:04<03:20,  4.78s/it]/content/drive/MyDrive/results/pifuhd_final/recon/result_frame62_256.obj\n",
            " 77% 140/181 [11:09<03:15,  4.76s/it]/content/drive/MyDrive/results/pifuhd_final/recon/result_frame63_256.obj\n",
            " 78% 141/181 [11:13<03:08,  4.71s/it]/content/drive/MyDrive/results/pifuhd_final/recon/result_frame64_256.obj\n",
            " 78% 142/181 [11:18<03:02,  4.69s/it]/content/drive/MyDrive/results/pifuhd_final/recon/result_frame65_256.obj\n",
            " 79% 143/181 [11:23<02:57,  4.67s/it]/content/drive/MyDrive/results/pifuhd_final/recon/result_frame66_256.obj\n",
            " 80% 144/181 [11:27<02:52,  4.66s/it]/content/drive/MyDrive/results/pifuhd_final/recon/result_frame67_256.obj\n",
            " 80% 145/181 [11:32<02:49,  4.71s/it]/content/drive/MyDrive/results/pifuhd_final/recon/result_frame68_256.obj\n",
            " 81% 146/181 [11:37<02:45,  4.74s/it]/content/drive/MyDrive/results/pifuhd_final/recon/result_frame69_256.obj\n",
            " 81% 147/181 [11:42<02:41,  4.74s/it]/content/drive/MyDrive/results/pifuhd_final/recon/result_frame7_256.obj\n",
            " 82% 148/181 [11:47<02:37,  4.76s/it]/content/drive/MyDrive/results/pifuhd_final/recon/result_frame70_256.obj\n",
            " 82% 149/181 [11:51<02:34,  4.82s/it]/content/drive/MyDrive/results/pifuhd_final/recon/result_frame71_256.obj\n",
            " 83% 150/181 [11:56<02:30,  4.84s/it]/content/drive/MyDrive/results/pifuhd_final/recon/result_frame72_256.obj\n",
            " 83% 151/181 [12:01<02:26,  4.88s/it]/content/drive/MyDrive/results/pifuhd_final/recon/result_frame73_256.obj\n",
            " 84% 152/181 [12:06<02:21,  4.87s/it]/content/drive/MyDrive/results/pifuhd_final/recon/result_frame74_256.obj\n",
            " 85% 153/181 [12:11<02:15,  4.85s/it]/content/drive/MyDrive/results/pifuhd_final/recon/result_frame75_256.obj\n",
            " 85% 154/181 [12:16<02:10,  4.83s/it]/content/drive/MyDrive/results/pifuhd_final/recon/result_frame76_256.obj\n",
            " 86% 155/181 [12:21<02:05,  4.83s/it]/content/drive/MyDrive/results/pifuhd_final/recon/result_frame77_256.obj\n",
            " 86% 156/181 [12:25<02:00,  4.81s/it]/content/drive/MyDrive/results/pifuhd_final/recon/result_frame78_256.obj\n",
            " 87% 157/181 [12:30<01:54,  4.78s/it]/content/drive/MyDrive/results/pifuhd_final/recon/result_frame79_256.obj\n",
            " 87% 158/181 [12:35<01:49,  4.75s/it]/content/drive/MyDrive/results/pifuhd_final/recon/result_frame8_256.obj\n",
            " 88% 159/181 [12:40<01:44,  4.76s/it]/content/drive/MyDrive/results/pifuhd_final/recon/result_frame80_256.obj\n",
            " 88% 160/181 [12:44<01:39,  4.75s/it]/content/drive/MyDrive/results/pifuhd_final/recon/result_frame81_256.obj\n",
            " 89% 161/181 [12:49<01:36,  4.80s/it]/content/drive/MyDrive/results/pifuhd_final/recon/result_frame82_256.obj\n",
            " 90% 162/181 [12:54<01:30,  4.78s/it]/content/drive/MyDrive/results/pifuhd_final/recon/result_frame83_256.obj\n",
            " 90% 163/181 [12:59<01:25,  4.77s/it]/content/drive/MyDrive/results/pifuhd_final/recon/result_frame84_256.obj\n",
            " 91% 164/181 [13:03<01:19,  4.70s/it]/content/drive/MyDrive/results/pifuhd_final/recon/result_frame85_256.obj\n",
            " 91% 165/181 [13:08<01:15,  4.71s/it]/content/drive/MyDrive/results/pifuhd_final/recon/result_frame86_256.obj\n",
            " 92% 166/181 [13:13<01:10,  4.69s/it]/content/drive/MyDrive/results/pifuhd_final/recon/result_frame87_256.obj\n",
            " 92% 167/181 [13:17<01:06,  4.73s/it]/content/drive/MyDrive/results/pifuhd_final/recon/result_frame88_256.obj\n",
            " 93% 168/181 [13:22<01:01,  4.74s/it]/content/drive/MyDrive/results/pifuhd_final/recon/result_frame89_256.obj\n",
            " 93% 169/181 [13:27<00:56,  4.74s/it]/content/drive/MyDrive/results/pifuhd_final/recon/result_frame9_256.obj\n",
            " 94% 170/181 [13:32<00:52,  4.74s/it]/content/drive/MyDrive/results/pifuhd_final/recon/result_frame90_256.obj\n",
            " 94% 171/181 [13:36<00:47,  4.75s/it]/content/drive/MyDrive/results/pifuhd_final/recon/result_frame91_256.obj\n",
            " 95% 172/181 [13:41<00:42,  4.75s/it]/content/drive/MyDrive/results/pifuhd_final/recon/result_frame92_256.obj\n",
            " 96% 173/181 [13:46<00:38,  4.77s/it]/content/drive/MyDrive/results/pifuhd_final/recon/result_frame93_256.obj\n",
            " 96% 174/181 [13:51<00:33,  4.84s/it]/content/drive/MyDrive/results/pifuhd_final/recon/result_frame94_256.obj\n",
            " 97% 175/181 [13:56<00:28,  4.81s/it]/content/drive/MyDrive/results/pifuhd_final/recon/result_frame95_256.obj\n",
            " 97% 176/181 [14:01<00:24,  4.80s/it]/content/drive/MyDrive/results/pifuhd_final/recon/result_frame96_256.obj\n",
            " 98% 177/181 [14:05<00:19,  4.79s/it]/content/drive/MyDrive/results/pifuhd_final/recon/result_frame97_256.obj\n",
            " 98% 178/181 [14:10<00:14,  4.79s/it]/content/drive/MyDrive/results/pifuhd_final/recon/result_frame98_256.obj\n",
            " 99% 179/181 [14:15<00:09,  4.74s/it]/content/drive/MyDrive/results/pifuhd_final/recon/result_frame99_256.obj\n",
            " 99% 180/181 [14:19<00:04,  4.73s/it]/content/drive/MyDrive/results/pifuhd_final/recon/result_test_256.obj\n",
            "100% 181/181 [14:24<00:00,  4.78s/it]\n"
          ]
        }
      ]
    }
  ]
}